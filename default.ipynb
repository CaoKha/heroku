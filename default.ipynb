{
  "nbformat": 4,
  "nbformat_minor": 0,
  "metadata": {
    "colab": {
      "name": "default.ipynb",
      "provenance": [],
      "collapsed_sections": [],
      "authorship_tag": "ABX9TyN3x6QsfOTA7qOyj3YBFECz"
    },
    "kernelspec": {
      "name": "python3",
      "display_name": "Python 3"
    }
  },
  "cells": [
    {
      "cell_type": "markdown",
      "metadata": {
        "id": "oz0Kak_F9TZe",
        "colab_type": "text"
      },
      "source": [
        "<img src=\"https://www.dropbox.com/s/j09w1c2kz9zzyzz/Beta-vulgaris_Foliage_Substrat2_25102019%20%2815%29.jfif?raw=1\" align=\"left\" style=\"width: 100px;\">\n",
        "<h4><a href=\"PlantClassifier.ipynb\">Plant Classifier</a></h4>\n",
        "This is a ResNet-50 CNN using fastai to do classification of sugarbeet plants into 6 classes. You can supply a URL or click some of the provided examples at the bottom."
      ]
    },
    {
      "cell_type": "code",
      "metadata": {
        "id": "IiClxLlCCsdw",
        "colab_type": "code",
        "colab": {}
      },
      "source": [
        ""
      ],
      "execution_count": null,
      "outputs": []
    }
  ]
}