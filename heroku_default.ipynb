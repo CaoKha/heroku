{
  "nbformat": 4,
  "nbformat_minor": 0,
  "metadata": {
    "colab": {
      "name": "heroku-default.ipynb",
      "provenance": [],
      "collapsed_sections": [],
      "authorship_tag": "ABX9TyN3x6QsfOTA7qOyj3YBFECz",
      "include_colab_link": true
    },
    "kernelspec": {
      "name": "python3",
      "display_name": "Python 3"
    }
  },
  "cells": [
    {
      "cell_type": "markdown",
      "metadata": {
        "id": "view-in-github",
        "colab_type": "text"
      },
      "source": [
        "<a href=\"https://colab.research.google.com/github/joedockrill/heroku/blob/master/heroku_default.ipynb\" target=\"_parent\"><img src=\"https://colab.research.google.com/assets/colab-badge.svg\" alt=\"Open In Colab\"/></a>"
      ]
    },
    {
      "cell_type": "markdown",
      "metadata": {
        "id": "cyw1A9Mj8CxU",
        "colab_type": "text"
      },
      "source": [
        "![](https://joedockrill.files.wordpress.com/2020/06/web-header-wide.png)\n",
        "\n",
        "Hello, come in! This is where i keep demo projects. I'd love to find somewhere I can blog and run fastai models and Python code in the same place without paying anyone for hosting, but in the meantime you can find some demos below, and my blog at [joedockrill.wordpress.com](https://joedockrill.wordpress.com/)\n",
        "\n",
        "---\n",
        "\n"
      ]
    },
    {
      "cell_type": "markdown",
      "metadata": {
        "id": "oz0Kak_F9TZe",
        "colab_type": "text"
      },
      "source": [
        "<img src=\"https://drive.google.com/uc?export=download&id=16zpSdNEXDjT5yjIlwezYmzdoHKENlJPI\" align=\"left\">\n",
        "<h4><a href=\"ClownClassifier.ipynb\">Clown Classifier</a></h4>\n",
        "This is a ResNet-50 CNN using fastai to do basic single label classification of clowns into nice  or scary. You can supply a URL or click some of the provided examples at the bottom."
      ]
    },
    {
      "cell_type": "code",
      "metadata": {
        "id": "IiClxLlCCsdw",
        "colab_type": "code",
        "colab": {}
      },
      "source": [
        ""
      ],
      "execution_count": null,
      "outputs": []
    }
  ]
}