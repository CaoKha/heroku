{
  "nbformat": 4,
  "nbformat_minor": 0,
  "metadata": {
    "kernelspec": {
      "display_name": "Python 3",
      "language": "python",
      "name": "python3"
    },
    "colab": {
      "name": "ClownClassifier.ipynb",
      "provenance": [],
      "collapsed_sections": [],
      "include_colab_link": true
    },
    "accelerator": "GPU"
  },
  "cells": [
    {
      "cell_type": "markdown",
      "metadata": {
        "id": "OQ8FfpI1TXw5",
        "colab_type": "text"
      },
      "source": [
        "**Sugarbeet Classifier**\n",
        "\n",
        "It's a resnet50 model to classify sugarbeet plant into 6 classes:\n",
        "\n",
        "'Agrostemma-githago_Cotyledon',\n",
        " 'Agrostemma-githago_Foliage',\n",
        " 'Agrostemma-githago_Intermediate',\n",
        " 'Beta-vulgaris_Cotyledon',\n",
        " 'Beta-vulgaris_Foliage',\n",
        " 'Beta-vulgaris_Intermediate',\n",
        " 'Crepis-setosa_Cotyledon',\n",
        " 'Crepis-setosa_Foliage',\n",
        " 'Crepis-setosa_Intermediate'\n"
      ]
    },
    {
      "cell_type": "code",
      "metadata": {
        "id": "eI57jBknqzKX",
        "colab_type": "code",
        "colab": {
          "base_uri": "https://localhost:8080/",
          "height": 207
        },
        "outputId": "06dfe755-c6f3-4293-8f97-85d603845097"
      },
      "source": [
        "# classifier\n",
        "import urllib.request\n",
        "from fastai.vision import *\n",
        "\n",
        "defaults.device = torch.device('cpu')\n",
        "\n",
        "\n",
        "\n",
        "MODEL_URL = \"https://www.dropbox.com/s/vr0zo6hejvhejij/export.pkl?raw=1\"\n",
        "urllib.request.urlretrieve(MODEL_URL, \"model.pkl\")\n",
        "path = Path(\".\")\n",
        "\n",
        "learner = load_learner(path, \"model.pkl\")\n",
        "\n",
        "def classify(url):\n",
        "  urllib.request.urlretrieve(url, \"image.jpg\")\n",
        "  img = open_image(\"image.jpg\")\n",
        "\n",
        "  pred_class,_,probs = learner.predict(img)\n",
        "  return pred_class.obj, learner.data.classes, probs.tolist()"
      ],
      "execution_count": null,
      "outputs": [
        {
          "output_type": "stream",
          "text": [
            "/usr/local/lib/python3.6/dist-packages/torch/serialization.py:657: SourceChangeWarning: source code of class 'torch.nn.modules.loss.CrossEntropyLoss' has changed. you can retrieve the original source code by accessing the object's source attribute or set `torch.nn.Module.dump_patches = True` and use the patch tool to revert the changes.\n",
            "  warnings.warn(msg, SourceChangeWarning)\n",
            "/usr/local/lib/python3.6/dist-packages/torch/serialization.py:657: SourceChangeWarning: source code of class 'torch.nn.modules.conv.Conv2d' has changed. you can retrieve the original source code by accessing the object's source attribute or set `torch.nn.Module.dump_patches = True` and use the patch tool to revert the changes.\n",
            "  warnings.warn(msg, SourceChangeWarning)\n",
            "/usr/local/lib/python3.6/dist-packages/torch/serialization.py:657: SourceChangeWarning: source code of class 'torch.nn.modules.activation.ReLU' has changed. you can retrieve the original source code by accessing the object's source attribute or set `torch.nn.Module.dump_patches = True` and use the patch tool to revert the changes.\n",
            "  warnings.warn(msg, SourceChangeWarning)\n",
            "/usr/local/lib/python3.6/dist-packages/torch/serialization.py:657: SourceChangeWarning: source code of class 'torchvision.models.resnet.Bottleneck' has changed. you can retrieve the original source code by accessing the object's source attribute or set `torch.nn.Module.dump_patches = True` and use the patch tool to revert the changes.\n",
            "  warnings.warn(msg, SourceChangeWarning)\n",
            "/usr/local/lib/python3.6/dist-packages/torch/serialization.py:657: SourceChangeWarning: source code of class 'torch.nn.modules.linear.Linear' has changed. you can retrieve the original source code by accessing the object's source attribute or set `torch.nn.Module.dump_patches = True` and use the patch tool to revert the changes.\n",
            "  warnings.warn(msg, SourceChangeWarning)\n"
          ],
          "name": "stderr"
        }
      ]
    },
    {
      "cell_type": "code",
      "metadata": {
        "id": "Zu6VFCeQO2C6",
        "colab_type": "code",
        "cellView": "code",
        "colab": {}
      },
      "source": [
        "# interface\n",
        "import ipywidgets as widgets\n",
        "from IPython.display import display\n",
        "\n",
        "\n",
        "\n",
        "\n",
        "def classify_on_click(btn):\n",
        "  htmlResult.value = \"<h3>Analysing...</h3>\"\n",
        "  display_image(txtURL.value)\n",
        "  pred_class,classes,probs = classify(txtURL.value)\n",
        "  # pred_class = pred_class.replace(\"-clown\", \"\") #because i should have named my classes better...\n",
        "\n",
        "  html = \"<div align='center'>\"\n",
        "  html += \"<h3>This plant is \" + pred_class + \"</h3>\"\n",
        "  html += \"Probilities: \" \n",
        "  html += classes[0] + \"=\" + \"{:1.2f}\".format(probs[0]) + \", \"\n",
        "  html += classes[1] + \"=\" + \"{:1.2f}\".format(probs[1]) + \", \"\n",
        "  html += classes[2] + \"=\" + \"{:1.2f}\".format(probs[2]) + \", \"\n",
        "  html += classes[3] + \"=\" + \"{:1.2f}\".format(probs[3]) + \", \"\n",
        "  html += classes[4] + \"=\" + \"{:1.2f}\".format(probs[4]) + \", \"\n",
        "  html += classes[5] + \"=\" + \"{:1.2f}\".format(probs[5]) \n",
        "  html += \"</div>\"\n",
        "  htmlResult.value = html\n",
        "\n",
        "def display_image(url):\n",
        "  htmlImage.value= \"<img src='\" + url + \"' width='300'>\"\n",
        "\n",
        "# upload = widgets.FileUpload()\n",
        "# upload\n",
        "\n",
        "DEFAULT_IMG = \"https://www.dropbox.com/s/04rj1k1ca73vvje/Agrostemma-githago_Intermediate_Substrat1_19022020%20%28101%29.JPG?raw=1\"\n",
        "\n",
        "htmlImage = widgets.HTML(value=\"\")\n",
        "display_image(DEFAULT_IMG)\n",
        "\n",
        "txtURL = widgets.Text(description=\"URL:\", placeholder=\"Enter the URL of the picture\")\n",
        "txtURL.layout.width = \"500px\"\n",
        "btnClassify = widgets.Button(description=\"Classify\")\n",
        "btnClassify.on_click(classify_on_click)\n",
        "boxH = widgets.HBox([txtURL, btnClassify])\n",
        "\n",
        "htmlResult = widgets.HTML(value=\"<h3>Please put the URL to the box.</h3>\")\n",
        "htmlResult.layout.margin = \"0px 0px 40px 0px\"\n",
        "\n",
        "boxV = widgets.VBox([htmlImage, boxH, htmlResult])\n",
        "\n",
        "boxV.layout.align_items = \"center\"\n",
        "display(boxV)\n",
        "\n",
        "# give them some examples to play with without getting urls\n",
        "def example_on_click(btn):\n",
        "  txtURL.value = btn.tag\n",
        "  classify_on_click(btnClassify)\n",
        "\n",
        "def create_example(url):\n",
        "  img = widgets.HTML(\"<img src='\" + url + \"' height='100'>\")\n",
        "  btn = widgets.Button(description=\"Test\")\n",
        "  btn.tag = url\n",
        "  btn.on_click(example_on_click)\n",
        "  vbox = widgets.VBox([img,btn])\n",
        "  vbox.layout.align_items = \"center\"\n",
        "  return vbox\n",
        "\n",
        "urls = [\n",
        "  \"https://www.dropbox.com/s/afz4xkyv5ehgwjw/Agrostemma-githago_Foliage_Substrat2_28022020%20%28318%29.jfif?raw=1\", \n",
        "  \"https://www.dropbox.com/s/k1apdi7i6z9zgh0/Beta-vulgaris_Intermediate_Substrat2_08112019%20%2822%29.jfif?raw=1\",\n",
        "  \"https://www.dropbox.com/s/alnpjfl3rzql95u/Crepis-setosa_Foliage_Substrat1_17022020%20%28171%29.jfif?raw=1\"\n",
        "  ]\n",
        "  \n",
        "items = []\n",
        "for url in urls:\n",
        "    items.append(create_example(url))\n",
        "\n",
        "grid = widgets.GridBox(items, layout=widgets.Layout(grid_template_columns=\"repeat(3, 33%)\"))\n",
        "display(grid)"
      ],
      "execution_count": null,
      "outputs": []
    },
    {
      "cell_type": "code",
      "metadata": {
        "id": "_xx4SLRWKIMt",
        "colab_type": "code",
        "colab": {}
      },
      "source": [
        ""
      ],
      "execution_count": null,
      "outputs": []
    }
  ]
}