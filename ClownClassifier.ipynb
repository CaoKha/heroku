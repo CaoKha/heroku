{
  "nbformat": 4,
  "nbformat_minor": 0,
  "metadata": {
    "kernelspec": {
      "display_name": "Python 3",
      "language": "python",
      "name": "python3"
    },
    "colab": {
      "name": "ClownClassifier.ipynb",
      "provenance": [],
      "collapsed_sections": [],
      "include_colab_link": true
    },
    "accelerator": "GPU"
  },
  "cells": [
    {
      "cell_type": "markdown",
      "metadata": {
        "id": "view-in-github",
        "colab_type": "text"
      },
      "source": [
        "<a href=\"https://colab.research.google.com/github/joedockrill/heroku/blob/master/ClownClassifier.ipynb\" target=\"_parent\"><img src=\"https://colab.research.google.com/assets/colab-badge.svg\" alt=\"Open In Colab\"/></a>"
      ]
    },
    {
      "cell_type": "markdown",
      "metadata": {
        "id": "OQ8FfpI1TXw5",
        "colab_type": "text"
      },
      "source": [
        "**Clown Classifier**\n",
        "\n",
        "So this is my homework from lesson 2 of the fastai course. It's a resnet50 model to classify clowns into \"nice\" or \"scary\".\n",
        "\n",
        "I've provided some URLs at the bottom if you don't want to go and find your own. I had no expectations about the model dealing even remotely well with people who aren't clowns (although I could easily have added a third class for normal people), but I found it amusing the way it classified the pictures I gave it. You may not...\n",
        "\n",
        "If the interface hasn't loaded below it's because it's still loading the model across from Google Drive, it can take a few seconds."
      ]
    },
    {
      "cell_type": "code",
      "metadata": {
        "id": "eI57jBknqzKX",
        "colab_type": "code",
        "colab": {
          "base_uri": "https://localhost:8080/",
          "height": 207
        },
        "outputId": "06dfe755-c6f3-4293-8f97-85d603845097"
      },
      "source": [
        "# classifier\n",
        "import urllib.request\n",
        "from fastai.vision import *\n",
        "\n",
        "defaults.device = torch.device('cpu')\n",
        "\n",
        "MODEL_URL = \"https://drive.google.com/uc?export=download&id=1sOChO7_ia07_4PIueLInj9VUj-_43nGu\"\n",
        "urllib.request.urlretrieve(MODEL_URL, \"model.pkl\")\n",
        "path = Path(\".\")\n",
        "\n",
        "learner = load_learner(path, \"model.pkl\")\n",
        "\n",
        "def classify(url):\n",
        "  urllib.request.urlretrieve(url, \"image.jpg\")\n",
        "  img = open_image(\"image.jpg\")\n",
        "\n",
        "  pred_class,_,probs = learner.predict(img)\n",
        "  return pred_class.obj, learner.data.classes, probs.tolist()"
      ],
      "execution_count": null,
      "outputs": [
        {
          "output_type": "stream",
          "text": [
            "/usr/local/lib/python3.6/dist-packages/torch/serialization.py:657: SourceChangeWarning: source code of class 'torch.nn.modules.loss.CrossEntropyLoss' has changed. you can retrieve the original source code by accessing the object's source attribute or set `torch.nn.Module.dump_patches = True` and use the patch tool to revert the changes.\n",
            "  warnings.warn(msg, SourceChangeWarning)\n",
            "/usr/local/lib/python3.6/dist-packages/torch/serialization.py:657: SourceChangeWarning: source code of class 'torch.nn.modules.conv.Conv2d' has changed. you can retrieve the original source code by accessing the object's source attribute or set `torch.nn.Module.dump_patches = True` and use the patch tool to revert the changes.\n",
            "  warnings.warn(msg, SourceChangeWarning)\n",
            "/usr/local/lib/python3.6/dist-packages/torch/serialization.py:657: SourceChangeWarning: source code of class 'torch.nn.modules.activation.ReLU' has changed. you can retrieve the original source code by accessing the object's source attribute or set `torch.nn.Module.dump_patches = True` and use the patch tool to revert the changes.\n",
            "  warnings.warn(msg, SourceChangeWarning)\n",
            "/usr/local/lib/python3.6/dist-packages/torch/serialization.py:657: SourceChangeWarning: source code of class 'torchvision.models.resnet.Bottleneck' has changed. you can retrieve the original source code by accessing the object's source attribute or set `torch.nn.Module.dump_patches = True` and use the patch tool to revert the changes.\n",
            "  warnings.warn(msg, SourceChangeWarning)\n",
            "/usr/local/lib/python3.6/dist-packages/torch/serialization.py:657: SourceChangeWarning: source code of class 'torch.nn.modules.linear.Linear' has changed. you can retrieve the original source code by accessing the object's source attribute or set `torch.nn.Module.dump_patches = True` and use the patch tool to revert the changes.\n",
            "  warnings.warn(msg, SourceChangeWarning)\n"
          ],
          "name": "stderr"
        }
      ]
    },
    {
      "cell_type": "code",
      "metadata": {
        "id": "Zu6VFCeQO2C6",
        "colab_type": "code",
        "cellView": "code",
        "colab": {}
      },
      "source": [
        "# interface\n",
        "import ipywidgets as widgets\n",
        "from IPython.display import display\n",
        "\n",
        "def classify_on_click(btn):\n",
        "  htmlResult.value = \"<h3>Analysing...</h3>\"\n",
        "  display_image(txtURL.value)\n",
        "  pred_class,classes,probs = classify(txtURL.value)\n",
        "  pred_class = pred_class.replace(\"-clown\", \"\") #because i should have named my classes better...\n",
        "\n",
        "  html = \"<div align='center'>\"\n",
        "  html += \"<h3>This clown is \" + pred_class + \"</h3>\"\n",
        "  html += \"Probilities: \" \n",
        "  html += classes[0] + \"=\" + \"{:1.2f}\".format(probs[0]) + \", \"\n",
        "  html += classes[1] + \"=\" + \"{:1.2f}\".format(probs[1]) \n",
        "  html += \"</div>\"\n",
        "  htmlResult.value = html\n",
        "\n",
        "def display_image(url):\n",
        "  htmlImage.value= \"<img src='\" + url + \"' width='300'>\"\n",
        "\n",
        "DEFAULT_IMG = \"https://drive.google.com/uc?export=download&id=157sDYNJ0Z1zGf9rv6klbYnYig5elGmpF\"\n",
        "\n",
        "htmlImage = widgets.HTML(value=\"\")\n",
        "display_image(DEFAULT_IMG)\n",
        "\n",
        "txtURL = widgets.Text(description=\"URL:\", placeholder=\"Enter the URL of a clown picture\")\n",
        "txtURL.layout.width = \"500px\"\n",
        "btnClassify = widgets.Button(description=\"Classify\")\n",
        "btnClassify.on_click(classify_on_click)\n",
        "boxH = widgets.HBox([txtURL, btnClassify])\n",
        "\n",
        "htmlResult = widgets.HTML(value=\"<h3>I fed clowns to a fastai convnet. They tasted funny.</h3>\")\n",
        "htmlResult.layout.margin = \"0px 0px 40px 0px\"\n",
        "\n",
        "boxV = widgets.VBox([htmlImage, boxH, htmlResult])\n",
        "\n",
        "boxV.layout.align_items = \"center\"\n",
        "display(boxV)\n",
        "\n",
        "# give them some examples to play with without getting urls\n",
        "def example_on_click(btn):\n",
        "  txtURL.value = btn.tag\n",
        "  classify_on_click(btnClassify)\n",
        "\n",
        "def create_example(url):\n",
        "  img = widgets.HTML(\"<img src='\" + url + \"' height='100'>\")\n",
        "  btn = widgets.Button(description=\"Test\")\n",
        "  btn.tag = url\n",
        "  btn.on_click(example_on_click)\n",
        "  vbox = widgets.VBox([img,btn])\n",
        "  vbox.layout.align_items = \"center\"\n",
        "  return vbox\n",
        "\n",
        "urls = [\n",
        "  \"https://image.shutterstock.com/image-photo/funny-kid-clown-red-hair-260nw-1088492591.jpg\", \n",
        "  \"https://cdn.vox-cdn.com/thumbor/hySCY2Pd1Lg-k-Zlyo5xkrPBX20=/1400x0/filters:no_upscale()/cdn.vox-cdn.com/uploads/chorus_asset/file/12486813/Clown_8.0.jpg\",\n",
        "  \"https://cdn.vox-cdn.com/thumbor/jUePyKTmAq2Z464lXYhpvUhuZ8I=/1400x0/filters:no_upscale()/cdn.vox-cdn.com/uploads/chorus_asset/file/12486807/Clown_3.0.jpg\",\n",
        "  \"https://i.pinimg.com/originals/3b/be/45/3bbe455102303d77c8fc046b18679935.jpg\", \n",
        "  \"https://pyxis.nymag.com/v1/imgs/12f/0c0/c381b0aa9a68758e0f99d7df8ac75ad0f7-17-clowns-pennywise.rsquare.w700.jpg\",\n",
        "  \"https://images-na.ssl-images-amazon.com/images/I/81HIWS0G1pL._SL1500_.jpg\",\n",
        "  \"https://upload.wikimedia.org/wikipedia/commons/b/b1/Boris_Johnson_election_infobox.jpg\", \n",
        "  \"https://static01.nyt.com/newsgraphics/2019/08/01/candidate-pages/7d63f01f112e79da7ac60c0448a4047a155ff410/trump.jpg\", \n",
        "  \"https://www.etonline.com/sites/default/files/styles/max_970x546/public/images/2019-03/jimmy_fallon_gettyimages-1126646661_1280.jpg?h=c673cd1c&itok=Bj77ku-B\"\n",
        "  ]\n",
        "  \n",
        "items = []\n",
        "for url in urls:\n",
        "    items.append(create_example(url))\n",
        "\n",
        "grid = widgets.GridBox(items, layout=widgets.Layout(grid_template_columns=\"repeat(3, 33%)\"))\n",
        "display(grid)"
      ],
      "execution_count": null,
      "outputs": []
    },
    {
      "cell_type": "code",
      "metadata": {
        "id": "_xx4SLRWKIMt",
        "colab_type": "code",
        "colab": {}
      },
      "source": [
        ""
      ],
      "execution_count": null,
      "outputs": []
    }
  ]
}